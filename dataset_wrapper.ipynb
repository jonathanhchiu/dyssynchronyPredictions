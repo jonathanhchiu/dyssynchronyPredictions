{
 "cells": [
  {
   "cell_type": "markdown",
   "metadata": {},
   "source": [
    "# Dataset Wrapper\n",
    "I will be explaining the reasoning behind the implementation of the dataset wrapper for the vectorcardiograms and dyssynchrony indices.\n",
    "\n",
    "## Goal\n",
    "The goal is to be able to iterate through a given dataset with minimum effort for the purpose of training a neural network in batches. Ideally, we would want to be able to call ```next_batch``` and it would give us the next batch of a specified size within the dataset. \n",
    "\n",
    "## Next Batch\n",
    "We provide additional requirements of the ```next_batch``` function here. They are as follows:\n",
    "* Deliver a specified number of examples upon calling ```next_batch``` for both the dyssynchrony index and the vectorcardiogram\n",
    "* We deliver the batches sequentially. For example, if we deliver the the first batch, it should be example numbers 1 through 10. The second batch should deliver example numbers 11-20. There are exceptions for corner cases however (such as when the specified batch size is greater than the dataset size, or if we have reached the end of the dataset and need to pull from the beginning).\n",
    "* If we have iterated through the entire dataset, then start pulling batches from the beginning. This is reasonable because most often, neural networks are usually trained with more than one epoch (the network sees the entire dataset usually more than once)."
   ]
  },
  {
   "cell_type": "markdown",
   "metadata": {},
   "source": [
    "## Implementation Steps\n",
    "### *Step 1: Rename Files*\n",
    "We wish to rename the files for three reasons:\n",
    "* Impose an ordering on the example numbers \n",
    "* Make the filenames more readable\n",
    "* Maintain that the filenames are predictable and follow a well-defined format\n",
    "\n",
    "Thus, we will execute the following bash script to rename all the ```.txt``` files in the current directory:\n",
    "```\n",
    "a=1\n",
    "for file in allParams-1_ECG_VCG_{1..608}_dump.txt; do \n",
    "    \n",
    "    # Require a 3 digit padding\n",
    "    new=$(printf \"version%03d.txt\" \"$a\")\n",
    "    \n",
    "    # Change the name\n",
    "    mv \"$file\" \"$new\"\n",
    "    let a=a+1\n",
    "done\n",
    "```\n",
    "Since the original filenames were not zero-padded, when we ```ls```, we would get ```allParams-1_ECG_VCG_109_dump.txt``` lexicographically before ```allParams-1_ECG_VCG_10_dump.txt```. Thus, instead of iterating through each ```file in ls *.txt```, we have to iterate through them using curly braces ```{1..608}``` to maintain that ```allParams-1_ECG_VCG_9_dump.txt``` corresponds to ```version009.txt``` and not ```allParams-1_ECG_VCG_109_dump.txt```\n",
    "\n",
    "To show that this has preserved the original ordering, look at the content of the first file before and after the renaming.\n",
    "\n",
    "#### Before:\n",
    "```\n",
    ">>> head allParams-1_ECG_VCG_1_dump.txt\n",
    "1.14859698e-06\t-8.52689793e-07\t-1.62738886e-07\n",
    "6.27637865e-03\t8.56158099e-04\t-2.80092680e-05\n",
    "1.73977577e-02\t2.37706707e-03\t-8.70847085e-05\n",
    "0.03220872\t0.00439809\t-0.00017971\n",
    "0.04663505\t0.00636597\t-0.00028655\n",
    "0.05990819\t0.00821321\t-0.00043461\n",
    "0.07573148\t0.01035879\t-0.00061512\n",
    "0.09897242\t0.01347624\t-0.0008311\n",
    "0.11859204\t0.01606282\t-0.00100526\n",
    "0.13539736\t0.01838106\t-0.00139427\n",
    "```\n",
    "\n",
    "#### After:\n",
    "```\n",
    ">>> head version001.txt\n",
    "1.14859698e-06\t-8.52689793e-07\t-1.62738886e-07\n",
    "6.27637865e-03\t8.56158099e-04\t-2.80092680e-05\n",
    "1.73977577e-02\t2.37706707e-03\t-8.70847085e-05\n",
    "0.03220872\t0.00439809\t-0.00017971\n",
    "0.04663505\t0.00636597\t-0.00028655\n",
    "0.05990819\t0.00821321\t-0.00043461\n",
    "0.07573148\t0.01035879\t-0.00061512\n",
    "0.09897242\t0.01347624\t-0.0008311\n",
    "0.11859204\t0.01606282\t-0.00100526\n",
    "0.13539736\t0.01838106\t-0.00139427\n",
    "```\n",
    "It works!"
   ]
  },
  {
   "cell_type": "markdown",
   "metadata": {},
   "source": [
    "### *Step 2: Convert To NumPy Arrays*"
   ]
  },
  {
   "cell_type": "code",
   "execution_count": null,
   "metadata": {
    "collapsed": true
   },
   "outputs": [],
   "source": []
  }
 ],
 "metadata": {
  "kernelspec": {
   "display_name": "Python 2",
   "language": "python",
   "name": "python2"
  },
  "language_info": {
   "codemirror_mode": {
    "name": "ipython",
    "version": 2
   },
   "file_extension": ".py",
   "mimetype": "text/x-python",
   "name": "python",
   "nbconvert_exporter": "python",
   "pygments_lexer": "ipython2",
   "version": "2.7.10"
  }
 },
 "nbformat": 4,
 "nbformat_minor": 2
}
